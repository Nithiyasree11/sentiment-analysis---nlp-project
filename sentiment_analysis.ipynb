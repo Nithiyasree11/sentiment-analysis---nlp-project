{
  "nbformat": 4,
  "nbformat_minor": 0,
  "metadata": {
    "colab": {
      "provenance": [],
      "authorship_tag": "ABX9TyPARRUNihXZfi4rUhtrjqqC",
      "include_colab_link": true
    },
    "kernelspec": {
      "name": "python3",
      "display_name": "Python 3"
    },
    "language_info": {
      "name": "python"
    }
  },
  "cells": [
    {
      "cell_type": "markdown",
      "metadata": {
        "id": "view-in-github",
        "colab_type": "text"
      },
      "source": [
        "<a href=\"https://colab.research.google.com/github/Nithiyasree11/sentiment-analysis---nlp-project/blob/main/sentiment_analysis.ipynb\" target=\"_parent\"><img src=\"https://colab.research.google.com/assets/colab-badge.svg\" alt=\"Open In Colab\"/></a>"
      ]
    },
    {
      "cell_type": "code",
      "execution_count": null,
      "metadata": {
        "id": "hJ--VmcPq1D3"
      },
      "outputs": [],
      "source": [
        "import pandas as pd\n",
        "import nltk\n",
        "from nltk.sentiment import SentimentIntensityAnalyzer\n",
        "from textblob import TextBlob\n",
        "import matplotlib.pyplot as plt"
      ]
    },
    {
      "cell_type": "code",
      "source": [
        "data=pd.read_csv('/content/training.1600000.processed.noemoticon.csv',encoding='latin-1', header=None, names=['target', 'id', 'date', 'flag', 'user', 'Review'],on_bad_lines='skip'  )\n",
        "df=pd.DataFrame(data)"
      ],
      "metadata": {
        "colab": {
          "base_uri": "https://localhost:8080/"
        },
        "id": "ol8j-wjIrYnq",
        "outputId": "82218604-8911-4303-e626-c78fbed9d848"
      },
      "execution_count": null,
      "outputs": [
        {
          "output_type": "stream",
          "name": "stderr",
          "text": [
            "<ipython-input-5-190f3370256d>:1: DtypeWarning: Columns (0,1) have mixed types. Specify dtype option on import or set low_memory=False.\n",
            "  data=pd.read_csv('/content/training.1600000.processed.noemoticon.csv',encoding='latin-1', header=None, names=['target', 'id', 'date', 'flag', 'user', 'Review'],on_bad_lines='skip'  )\n"
          ]
        }
      ]
    },
    {
      "cell_type": "code",
      "source": [
        "nltk.download('vader_lexicon')\n",
        "s=SentimentIntensityAnalyzer()\n",
        "df['scores']=df['Review'].astype(str).apply(lambda x:s.polarity_scores(x)['compound'])\n",
        "df['sentiment']=df['scores'].apply(lambda score:'positive' if score > 0.05 else ('Negative' if score < -0.05 else 'Neutral'))"
      ],
      "metadata": {
        "colab": {
          "base_uri": "https://localhost:8080/"
        },
        "id": "0uxGF-YYtjBK",
        "outputId": "1fc6e7a0-1011-4a4d-b46d-80519d7d15a4"
      },
      "execution_count": null,
      "outputs": [
        {
          "output_type": "stream",
          "name": "stderr",
          "text": [
            "[nltk_data] Downloading package vader_lexicon to /root/nltk_data...\n",
            "[nltk_data]   Package vader_lexicon is already up-to-date!\n"
          ]
        }
      ]
    },
    {
      "cell_type": "code",
      "source": [
        "senti_count=df['sentiment'].value_counts()\n",
        "\n",
        "plt.figure(figsize=(8,6))\n",
        "plt.bar(senti_count.index,senti_count.values, color=['green','yellow','red'])\n",
        "plt.xlabel('Sentiment')\n",
        "plt.ylabel('Count')\n",
        "plt.title('Sentiment Analysis')\n",
        "plt.show()"
      ],
      "metadata": {
        "colab": {
          "base_uri": "https://localhost:8080/",
          "height": 564
        },
        "id": "e8E07d2txjgE",
        "outputId": "fa143c20-c28f-488c-ade2-86eafa17c687"
      },
      "execution_count": null,
      "outputs": [
        {
          "output_type": "display_data",
          "data": {
            "text/plain": [
              "<Figure size 800x600 with 1 Axes>"
            ],
            "image/png": "[encoded data removed]"
          },
          "metadata": {}
        }
      ]
    },
    {
      "cell_type": "code",
      "source": [
        "def analyze_new_review(review):\n",
        "    score = s.polarity_scores(review)['compound']\n",
        "    sentiment = \"Positive\" if score > 0.05 else (\"Negative\" if score < -0.05 else \"Neutral\")\n",
        "    return sentiment, score\n",
        "\n",
        "# Example: Ask user for a new review\n",
        "new_review = input(\"Enter a review: \")\n",
        "sentiment, score = analyze_new_review(new_review)\n",
        "\n",
        "print(f\"\\nReview: {new_review}\")\n",
        "print(f\"Sentiment Score: {score}\")\n",
        "print(f\"Sentiment: {sentiment}\")\n"
      ],
      "metadata": {
        "colab": {
          "base_uri": "https://localhost:8080/"
        },
        "id": "dQzuJy7FxXlp",
        "outputId": "ed51c21b-25da-43ab-db50-c3e91c76c7a3"
      },
      "execution_count": null,
      "outputs": [
        {
          "output_type": "stream",
          "name": "stdout",
          "text": [
            "Enter a review: it is good to have a nice day\n",
            "\n",
            "Review: it is good to have a nice day\n",
            "Sentiment Score: 0.6908\n",
            "Sentiment: Positive\n"
          ]
        }
      ]
    }
  ]
}